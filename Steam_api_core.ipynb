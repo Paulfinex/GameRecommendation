{
 "cells": [
  {
   "cell_type": "code",
   "execution_count": 6,
   "id": "1ca0cb9a-4a17-4c1f-ac82-4f8c5e077909",
   "metadata": {},
   "outputs": [
    {
     "name": "stdout",
     "output_type": "stream",
     "text": [
      "Collecting python-steam-api\n",
      "  Downloading python_steam_api-1.2.2-py3-none-any.whl.metadata (18 kB)\n",
      "Requirement already satisfied: requests in c:\\users\\senti\\anaconda3\\lib\\site-packages (from python-steam-api) (2.31.0)\n",
      "Requirement already satisfied: python-decouple in c:\\users\\senti\\anaconda3\\lib\\site-packages (from python-steam-api) (3.8)\n",
      "Requirement already satisfied: charset-normalizer<4,>=2 in c:\\users\\senti\\anaconda3\\lib\\site-packages (from requests->python-steam-api) (2.0.4)\n",
      "Requirement already satisfied: idna<4,>=2.5 in c:\\users\\senti\\anaconda3\\lib\\site-packages (from requests->python-steam-api) (3.4)\n",
      "Requirement already satisfied: urllib3<3,>=1.21.1 in c:\\users\\senti\\anaconda3\\lib\\site-packages (from requests->python-steam-api) (2.0.7)\n",
      "Requirement already satisfied: certifi>=2017.4.17 in c:\\users\\senti\\anaconda3\\lib\\site-packages (from requests->python-steam-api) (2024.2.2)\n",
      "Downloading python_steam_api-1.2.2-py3-none-any.whl (11 kB)\n",
      "Installing collected packages: python-steam-api\n",
      "Successfully installed python-steam-api-1.2.2\n"
     ]
    }
   ],
   "source": [
    "!pip install python-steam-api"
   ]
  },
  {
   "cell_type": "code",
   "execution_count": 5,
   "id": "95b9c3b0",
   "metadata": {},
   "outputs": [
    {
     "ename": "ImportError",
     "evalue": "cannot import name 'Steam' from 'steam' (C:\\Users\\senti\\anaconda3\\Lib\\site-packages\\steam\\__init__.py)",
     "output_type": "error",
     "traceback": [
      "\u001b[1;31m---------------------------------------------------------------------------\u001b[0m",
      "\u001b[1;31mImportError\u001b[0m                               Traceback (most recent call last)",
      "Cell \u001b[1;32mIn[5], line 1\u001b[0m\n\u001b[1;32m----> 1\u001b[0m \u001b[38;5;28;01mfrom\u001b[39;00m \u001b[38;5;21;01msteam\u001b[39;00m \u001b[38;5;28;01mimport\u001b[39;00m Steam\n\u001b[0;32m      2\u001b[0m \u001b[38;5;28;01mfrom\u001b[39;00m \u001b[38;5;21;01mdecouple\u001b[39;00m \u001b[38;5;28;01mimport\u001b[39;00m config\n\u001b[0;32m      3\u001b[0m \u001b[38;5;28;01mimport\u001b[39;00m \u001b[38;5;21;01mrequests\u001b[39;00m\n",
      "\u001b[1;31mImportError\u001b[0m: cannot import name 'Steam' from 'steam' (C:\\Users\\senti\\anaconda3\\Lib\\site-packages\\steam\\__init__.py)"
     ]
    }
   ],
   "source": [
    "from steam import Steam\n",
    "from decouple import config\n",
    "import requests\n",
    "import json\n",
    "from pathlib import Path\n",
    "from pymongo import MongoClient\n",
    "import pandas as pd\n",
    "from IPython.display import display, HTML\n",
    "import matplotlib.pyplot as plt\n",
    "import numpy as np\n",
    "import time\n",
    "from tqdm import tqdm\n",
    "from multiprocessing import Process\n",
    "import multiprocessing \n",
    "from pymongo import UpdateOne\n",
    "from pymongo import InsertOne\n",
    "from concurrent.futures import ThreadPoolExecutor, as_completed\n",
    "from IPython.display import clear_output"
   ]
  },
  {
   "cell_type": "markdown",
   "id": "22a231d4",
   "metadata": {},
   "source": [
    "## API calls list\n",
    "\n",
    "List of all the games ( appid and name ) : http://api.steampowered.com/ISteamApps/GetAppList/v0002/?key={key}&format=json\n",
    "\n",
    "Get concurrent players: http://api.steampowered.com/ISteamUserStats/GetNumberOfCurrentPlayers/v1/?appid={app_id}\n",
    "\n",
    "Get review stats: https://store.steampowered.com/appreviews/{app_id}?json=1&language=all&l=english\n",
    "\n",
    "Get game details: https://store.steampowered.com/api/appdetails?appids={app_id}\n",
    "\n",
    "Get concurrent players: https://api.steampowered.com/ISteamUserStats/GetNumberOfCurrentPlayers/v1/?appid={app_id}&key={key}\n"
   ]
  },
  {
   "cell_type": "code",
   "execution_count": 9,
   "id": "15b95606",
   "metadata": {},
   "outputs": [],
   "source": [
    "# Connect to MongoDB\n",
    "client = MongoClient('mongodb://localhost:27017/')\n",
    "db = client['DM_Project']\n",
    "collection = db['Games']\n",
    "df = pd.DataFrame(list(collection.find()))"
   ]
  },
  {
   "cell_type": "code",
   "execution_count": 10,
   "id": "d2577b0d",
   "metadata": {},
   "outputs": [],
   "source": [
    "file_key_path = 'key.txt'\n",
    "file_gamelist_path = 'Data/games_appid_name.json'\n",
    "session = requests.Session()\n",
    "key=''\n",
    "\n",
    "with open(file_key_path, 'r') as file:\n",
    "    key = file.read()\n",
    "steam = Steam(key)\n",
    "\n"
   ]
  },
  {
   "cell_type": "code",
   "execution_count": 11,
   "id": "c3fa80df",
   "metadata": {},
   "outputs": [],
   "source": [
    "\n",
    "\n",
    "def get_game_list(file_path):\n",
    "    file_path = Path(file_path) \n",
    "    if file_path.exists():\n",
    "        print(f\"File found {file_path}\")\n",
    "        with open(file_path, 'r') as json_file:\n",
    "            data = json.load(json_file)\n",
    "            return data\n",
    "    else:\n",
    "        print(f\"File not found {file_path}\")\n",
    "        url = f\"http://api.steampowered.com/ISteamApps/GetAppList/v0002/?key={key}&format=json\"\n",
    "        response = session.get(url)\n",
    "        if response.status_code == 200:\n",
    "            return response.json()\n",
    "        else:\n",
    "            return {}\n",
    "        \n",
    "def get_CCU(app_id,key_id):\n",
    "    try:\n",
    "        url = f\"https://api.steampowered.com/ISteamUserStats/GetNumberOfCurrentPlayers/v1/?appid={app_id}&key={key}\"\n",
    "        response = session.get(url)\n",
    "        if response.status_code == 200:\n",
    "            return response.json()\n",
    "        else:\n",
    "            #print(f\"Api call get_CCU on game {app_id} failed\")\n",
    "            return {} \n",
    "    except requests.HTTPError as http_err:\n",
    "        print(f\"HTTP error occurred: {http_err}\")  \n",
    "        return {}\n",
    "    except requests.exceptions.Timeout:\n",
    "        print(\"The request timed out\")\n",
    "        return {}\n",
    "    except ValueError:  \n",
    "        print(\"Response content is not valid JSON\")\n",
    "        return {}\n",
    "    except Exception as err:\n",
    "        print(f\"An error occurred: {err}\")\n",
    "        return {}\n",
    "\n",
    "    \n",
    "def get_game_details(app_id):\n",
    "    try:\n",
    "        url = f\"https://store.steampowered.com/api/appdetails?appids={app_id}&l=english\"\n",
    "        response = session.get(url)\n",
    "        if response.status_code == 200:\n",
    "            return response.json()\n",
    "        else:\n",
    "            #print(f\"Api call get_game_details on game {app_id} failed\")\n",
    "            return {}\n",
    "    except requests.HTTPError as http_err:\n",
    "        print(f\"HTTP error occurred: {http_err}\")  \n",
    "        return {}\n",
    "    except requests.exceptions.Timeout:\n",
    "        print(\"The request timed out\")\n",
    "        return {}\n",
    "    except ValueError: \n",
    "        print(\"Response content is not valid JSON\")\n",
    "        return {}\n",
    "    except Exception as err:\n",
    "        print(f\"An error occurred: {err}\")\n",
    "        return {}\n",
    "\n",
    "def get_game_reviews(app_id):\n",
    "    try:\n",
    "        url = f\"https://store.steampowered.com/appreviews/{app_id}?json=1&language=all&l=english\"\n",
    "        response = session.get(url)\n",
    "        if response.status_code == 200:\n",
    "            return response.json()\n",
    "        else:\n",
    "            #print(f\"Api call get_game_reviews on game {app_id} failed\")\n",
    "            return {}\n",
    "    except requests.HTTPError as http_err:\n",
    "        print(f\"HTTP error occurred: {http_err}\")  # Python 3.6\n",
    "        return {}\n",
    "    except requests.exceptions.Timeout:\n",
    "        print(\"The request timed out\")\n",
    "        return {}\n",
    "    except ValueError: \n",
    "        print(\"Response content is not valid JSON\")\n",
    "        return {}\n",
    "    except Exception as err:\n",
    "        print(f\"An error occurred: {err}\")\n",
    "        return {}\n",
    "\n",
    "def get_game_tags(app_id):\n",
    "    try:\n",
    "        url = f\"http://store.steampowered.com/api/appdetails?appids={app_id}&l=english\"\n",
    "        response = session.get(url)\n",
    "        if response.status_code == 200:\n",
    "            data = response.json()\n",
    "            return data[str(app_id)]['data']['genres'], data[str(app_id)]['data']['categories']\n",
    "        else:\n",
    "            #print(f\"Api call get_game_tags on game {app_id} failed\")\n",
    "            return {}, {}\n",
    "    except requests.HTTPError as http_err:\n",
    "        print(f\"HTTP error occurred: {http_err}\")  # Python 3.6\n",
    "        return {}\n",
    "    except requests.exceptions.Timeout:\n",
    "        print(\"The request timed out\")\n",
    "        return {}\n",
    "    except ValueError: \n",
    "        print(\"Response content is not valid JSON\")\n",
    "        return {}\n",
    "    except Exception as err:\n",
    "        print(f\"An error occurred: {err}\")\n",
    "        return {}\n",
    "\n"
   ]
  },
  {
   "cell_type": "code",
   "execution_count": 12,
   "id": "4579cfc8",
   "metadata": {},
   "outputs": [],
   "source": [
    "def update_CCU(key_id):\n",
    "    query = {'Peak CCU':0}\n",
    "    zero_ccu_df = pd.DataFrame(list(collection.find(query)))\n",
    "    bulk_ops = []  \n",
    "    bulk_size = 100\n",
    "    try:\n",
    "        for index, row in tqdm(zero_ccu_df.iterrows(), total=len(zero_ccu_df), desc=\"Updating CCU\"):\n",
    "            appid = row['AppID']\n",
    "            CCU_json = get_CCU(appid,key)\n",
    "            response_data = CCU_json.get('response', {})\n",
    "            CCU = response_data.get('player_count', 0)\n",
    "            query = {'AppID':appid}\n",
    "            update = {'$set': {'Peak CCU':CCU}}\n",
    "            bulk_ops.append(UpdateOne(query, update))\n",
    "            if len(bulk_ops) == bulk_size:\n",
    "                collection.bulk_write(bulk_ops)\n",
    "                bulk_ops = []\n",
    "                time.sleep(5)\n",
    "            else:\n",
    "                continue\n",
    "    except Exception as e:\n",
    "        print(f\"An error occurred, processed CCU will be writed: {e}\")\n",
    "        collection.bulk_write(bulk_ops)\n",
    "    finally:\n",
    "        collection.bulk_write(bulk_ops)       \n",
    "        \n",
    "        \n",
    "def parallel_requests(appid, key):\n",
    "    with ThreadPoolExecutor() as executor:\n",
    "        future_to_request = {\n",
    "            executor.submit(get_game_details, appid): 'details',\n",
    "            executor.submit(get_game_reviews, appid): 'reviews',\n",
    "            executor.submit(get_CCU, appid, key): 'CCU'\n",
    "        }\n",
    "\n",
    "        results = {}\n",
    "        for future in as_completed(future_to_request):\n",
    "            request_type = future_to_request[future]\n",
    "            try:\n",
    "                results[request_type] = future.result()\n",
    "            except Exception as exc:\n",
    "                print(f'{request_type} request generated an exception: {exc}')\n",
    "        \n",
    "    return results  \n",
    "\n",
    "\n",
    "def retry_function(func,collection,df_r):\n",
    "    delay_seconds=20\n",
    "    while not df_r['updated'].all():\n",
    "        try:\n",
    "            df_r = pd.DataFrame(list(collection.find()))\n",
    "            return func()\n",
    "        except Exception as e:\n",
    "            print(f\"Function failed with error: {e}. Retrying in {delay_seconds} seconds...\")\n",
    "            time.sleep(delay_seconds)\n",
    "    raise\n",
    "\n",
    "def update_games(df,key):\n",
    "    collection = db['Games updated']    \n",
    "    bulk_ops = []  \n",
    "    bulk_size = 100\n",
    "    try:\n",
    "        for index, row in tqdm(df.iterrows(), total=len(df), desc=\"Updating games\"):\n",
    "            if index <= 14110: continue\n",
    "            appid=-1\n",
    "            appid = row['AppID']\n",
    "            game_name = row['Name']\n",
    "            game_genres = row['Genres']\n",
    "            game_categories  = row['Categories']\n",
    "            CCU = row['Peak CCU']\n",
    "            #results = parallel_requests(appid, key)\n",
    "            #details_json = results['details']\n",
    "            #reviews_json = results['reviews']\n",
    "            #CCU_json = results['CCU']\n",
    "            details_json = get_game_details(appid)\n",
    "            reviews_json = get_game_reviews(appid)\n",
    "            CCU_json = get_CCU(appid,key)\n",
    "            update_success = True\n",
    "            if CCU == 0 and CCU_json is not None:\n",
    "                response_data = CCU_json.get('response', {})\n",
    "                curr_CCU = response_data.get('player_count', 0) \n",
    "            if details_json.get(str(appid),{}).get('success',False):\n",
    "                game_data = details_json.get(str(appid)).get('data')\n",
    "                game_name = game_data.get('name',row['Name'])\n",
    "                game_genres = [genre['description'] for genre in game_data.get('genres', [])]\n",
    "                game_categories =[category['description'] for category in game_data.get('categories', [])]\n",
    "            else:\n",
    "                update_success = False  \n",
    "                #print('Sleeping 5 sec on failed request')\n",
    "                time.sleep(5)\n",
    "\n",
    "            if reviews_json.get('success',False):\n",
    "                review_data= reviews_json.get('query_summary',{})\n",
    "                review_positive = review_data.get('total_positive',row['Positive'])\n",
    "                review_negative = review_data.get('total_negative',row['Negative'])\n",
    "            else:\n",
    "                update_success = False\n",
    "                #print('Sleeping 5 sec on failed request')\n",
    "                time.sleep(5)\n",
    "            query = {'AppID':appid}\n",
    "            update = {'$set': {'updated': True, 'update_successful': update_success,'Name':game_name,'Genres':game_genres,'Categories':game_categories,'Positive':review_positive,'Negative':review_negative,'Peak CCU':CCU}}\n",
    "            bulk_ops.append(UpdateOne(query, update))\n",
    "\n",
    "\n",
    "            if len(bulk_ops) == bulk_size:\n",
    "                collection.bulk_write(bulk_ops)\n",
    "                bulk_ops = []\n",
    "                #print('Sleeping 30 seconds after bulk write to not overload Steam with requests')\n",
    "                time.sleep(30)\n",
    "\n",
    "            else:\n",
    "                continue\n",
    "    except Exception as e:\n",
    "        print(f\"An error occurred, processed games will be writed: {e}\")\n",
    "        collection.bulk_write(bulk_ops)\n",
    "    finally:\n",
    "        collection.bulk_write(bulk_ops)\n",
    "\n",
    "        \n",
    "def add_games_from_list(game_list,app_ids,collection):\n",
    "    bulk_ops = []  \n",
    "    bulk_size = 100\n",
    "    try:\n",
    "        for index, g in enumerate(tqdm(game_list, desc=f'Processing games, curr bulk size:{len(bulk_ops)}')):\n",
    "            if index < 0:\n",
    "                continue \n",
    "            if g.get('appid') in app_ids:\n",
    "                continue\n",
    "            appid = g.get('appid')\n",
    "            game_name = g.get('name')\n",
    "            game_genres = []\n",
    "            game_categories  = []\n",
    "            CCU = 0\n",
    "            details_json = get_game_details(appid)\n",
    "            reviews_json = get_game_reviews(appid)\n",
    "            CCU_json = get_CCU(appid,key)\n",
    "            review_positive = 0\n",
    "            review_negative = 0\n",
    "            if CCU == 0 and CCU_json is not None:\n",
    "                response_data = CCU_json.get('response', {})\n",
    "                curr_CCU = response_data.get('player_count', 0) \n",
    "                \n",
    "            if details_json.get(str(appid),{}).get('success',False):\n",
    "                game_data = details_json.get(str(appid)).get('data')\n",
    "                game_genres = [genre['description'] for genre in game_data.get('genres', [])]\n",
    "                game_categories =[category['description'] for category in game_data.get('categories', [])]\n",
    "            else:\n",
    "                continue\n",
    "\n",
    "            if reviews_json.get('success',False):\n",
    "                review_data= reviews_json.get('query_summary',{})\n",
    "                review_positive = review_data.get('total_positive',0)\n",
    "                review_negative = review_data.get('total_negative',0)\n",
    "                if (review_positive + review_negative) == 0:\n",
    "                    continue\n",
    "            else:\n",
    "                continue\n",
    "            \n",
    "            insert =  {'AppID':appid,'Name':game_name,'Genres':game_genres,'Categories':game_categories,'Positive':review_positive,'Negative':review_negative,'Peak CCU':CCU}\n",
    "            bulk_ops.append(InsertOne(insert))\n",
    "            if len(bulk_ops) == bulk_size:\n",
    "                collection.bulk_write(bulk_ops)\n",
    "                bulk_ops = []\n",
    "                time.sleep(5)\n",
    "            else:\n",
    "                continue\n",
    "    except Exception as e:\n",
    "        print(f\"An error occurred, processed games will be writed: {e}\")\n",
    "        collection.bulk_write(bulk_ops)\n",
    "    finally:\n",
    "        collection.bulk_write(bulk_ops)"
   ]
  },
  {
   "cell_type": "code",
   "execution_count": null,
   "id": "0a6609f0",
   "metadata": {},
   "outputs": [
    {
     "name": "stderr",
     "output_type": "stream",
     "text": [
      "Updating games:  39%|███▉      | 30658/78774 [6:35:28<18:27:08,  1.38s/it] "
     ]
    }
   ],
   "source": [
    "collection_updated = db['Games_updated']\n",
    "df_updated = pd.DataFrame(list(collection_updated.find()))\n",
    "update_games(df_updated,key)"
   ]
  },
  {
   "cell_type": "code",
   "execution_count": 6,
   "id": "cafb4b9e",
   "metadata": {},
   "outputs": [
    {
     "name": "stdout",
     "output_type": "stream",
     "text": [
      "File found Data\\games_appid_name.json\n"
     ]
    },
    {
     "name": "stderr",
     "output_type": "stream",
     "text": [
      "Filtering games: 100%|██████████| 189176/189176 [02:08<00:00, 1477.84it/s]\n"
     ]
    }
   ],
   "source": [
    "\n",
    "gl = get_game_list(file_gamelist_path)\n",
    "app_ids = collection.distinct('AppID')\n",
    "filtered_gl = [game for game in tqdm(gl, desc=\"Filtering games\") if game.get('appid') not in app_ids]\n",
    "filtered_gl = sorted(filtered_gl, key=lambda x: x['appid'])"
   ]
  },
  {
   "cell_type": "code",
   "execution_count": 22,
   "id": "28c620e6",
   "metadata": {},
   "outputs": [],
   "source": [
    "seen_appids = set()\n",
    "unique_games = []\n",
    "for game in filtered_gl:\n",
    "    if game['appid'] not in seen_appids:\n",
    "        unique_games.append(game)\n",
    "        seen_appids.add(game['appid'])\n",
    "filtered_gl = unique_games"
   ]
  },
  {
   "cell_type": "code",
   "execution_count": 25,
   "id": "912509d5",
   "metadata": {
    "scrolled": true
   },
   "outputs": [
    {
     "name": "stderr",
     "output_type": "stream",
     "text": [
      "Processing games, curr bulk size:0:  35%|███▌      | 30811/87882 [6:46:13<13:31:38,  1.17it/s] "
     ]
    },
    {
     "name": "stdout",
     "output_type": "stream",
     "text": [
      "Response content is not valid JSON\n"
     ]
    },
    {
     "name": "stderr",
     "output_type": "stream",
     "text": [
      "Processing games, curr bulk size:0:  44%|████▍     | 38609/87882 [8:35:59<11:12:06,  1.22it/s]"
     ]
    },
    {
     "name": "stdout",
     "output_type": "stream",
     "text": [
      "Response content is not valid JSON\n"
     ]
    },
    {
     "name": "stderr",
     "output_type": "stream",
     "text": [
      "Processing games, curr bulk size:0:  53%|█████▎    | 47015/87882 [10:31:30<8:33:28,  1.33it/s] "
     ]
    },
    {
     "name": "stdout",
     "output_type": "stream",
     "text": [
      "Response content is not valid JSON\n"
     ]
    },
    {
     "name": "stderr",
     "output_type": "stream",
     "text": [
      "Processing games, curr bulk size:0: 100%|██████████| 87882/87882 [19:09:19<00:00,  1.27it/s]   \n"
     ]
    }
   ],
   "source": [
    "db = client['DM_Project']\n",
    "collection_new = db['New_games']\n",
    "add_games_from_list(filtered_gl,app_ids,collection_new)"
   ]
  },
  {
   "cell_type": "code",
   "execution_count": null,
   "id": "3c01b34f",
   "metadata": {},
   "outputs": [
    {
     "name": "stderr",
     "output_type": "stream",
     "text": [
      "Updating games:  17%|█▋        | 13092/78774 [01:08<31:50, 34.39it/s]   "
     ]
    },
    {
     "name": "stdout",
     "output_type": "stream",
     "text": [
      "Sleeping 30 seconds after bulk write to not overload Steam with requests\n"
     ]
    },
    {
     "name": "stderr",
     "output_type": "stream",
     "text": [
      "\r",
      "Updating games:  17%|█▋        | 13092/78774 [01:26<31:50, 34.39it/s]"
     ]
    }
   ],
   "source": []
  },
  {
   "cell_type": "code",
   "execution_count": 35,
   "id": "0e483355",
   "metadata": {
    "scrolled": true
   },
   "outputs": [
    {
     "name": "stderr",
     "output_type": "stream",
     "text": [
      "Adding games to new db:   0%|          | 158/83560 [00:00<01:33, 895.62it/s]"
     ]
    },
    {
     "name": "stdout",
     "output_type": "stream",
     "text": []
    },
    {
     "name": "stderr",
     "output_type": "stream",
     "text": [
      "\n"
     ]
    }
   ],
   "source": [
    "%%script false\n",
    "collection = db['Games']\n",
    "df = pd.DataFrame(list(collection.find()))\n",
    "\n",
    "bulk_ops = []\n",
    "collection_updated = db['Games_updated']\n",
    "for index, row in tqdm(df.iterrows(), total=len(df), desc=\"Adding games to new db\"):\n",
    "    if row['Positive']+row['Negative']> 0:\n",
    "            insert =  {'AppID':row['AppID'],'Name':row['Name'],'Genres':row['Genres'],'Categories':row['Categories'],'Positive':row['Positive'],'Negative':row['Negative'],'Peak CCU':row['Peak CCU']}\n",
    "            bulk_ops.append(InsertOne(insert))\n",
    "    if len(bulk_ops)> 100:\n",
    "        collection_updated.bulk_write(bulk_ops)\n",
    "        bulk_ops = []\n",
    "collection_updated.bulk_write(bulk_ops)\n",
    "bulk_ops = []"
   ]
  },
  {
   "cell_type": "code",
   "execution_count": 42,
   "id": "5906090e",
   "metadata": {},
   "outputs": [
    {
     "name": "stderr",
     "output_type": "stream",
     "text": [
      "Adding games to new db: 100%|██████████| 12445/12445 [00:12<00:00, 1016.35it/s]\n"
     ]
    }
   ],
   "source": [
    "%%script false\n",
    "collection_new = db['New_games']\n",
    "df_new = pd.DataFrame(list(collection_new.find()))\n",
    "\n",
    "app_ids = collection_updated.distinct('AppID')\n",
    "bulk_ops = []\n",
    "for index, row in tqdm(df_new.iterrows(), total=len(df_new), desc=\"Adding games to new db\"):\n",
    "    if row['AppID'] not in app_ids:\n",
    "            insert =  {'AppID':row['AppID'],'Name':row['Name'],'Genres':row['Genres'],'Categories':row['Categories'],'Positive':row['Positive'],'Negative':row['Negative'],'Peak CCU':row['Peak CCU']}\n",
    "            bulk_ops.append(InsertOne(insert))\n",
    "    if len(bulk_ops)> 100:\n",
    "        collection_updated.bulk_write(bulk_ops)\n",
    "        bulk_ops = []\n",
    "collection_updated.bulk_write(bulk_ops)\n",
    "bulk_ops = []"
   ]
  },
  {
   "cell_type": "code",
   "execution_count": 13,
   "id": "2c1be914",
   "metadata": {},
   "outputs": [
    {
     "name": "stdout",
     "output_type": "stream",
     "text": [
      "AppIDs have been saved to app_ids.txt.\n"
     ]
    }
   ],
   "source": [
    "from pymongo import MongoClient\n",
    "\n",
    "collection_updated = db['Games_updated']\n",
    "\n",
    "# Fetch only the AppID from all documents\n",
    "app_ids = collection_updated.find({}, {'AppID': 1})\n",
    "\n",
    "# Extract AppIDs and convert them to a comma-separated string\n",
    "app_ids_str = ','.join(str(doc['AppID']) for doc in app_ids)\n",
    "\n",
    "# Save the string to a text file\n",
    "with open('app_ids.txt', 'w') as file:\n",
    "    file.write(app_ids_str)\n",
    "\n",
    "print('AppIDs have been saved to app_ids.txt.')\n"
   ]
  },
  {
   "cell_type": "code",
   "execution_count": 20,
   "id": "d1288c6e",
   "metadata": {},
   "outputs": [],
   "source": []
  },
  {
   "cell_type": "code",
   "execution_count": 21,
   "id": "5e9e9ef9",
   "metadata": {},
   "outputs": [
    {
     "data": {
      "text/plain": [
       "[]"
      ]
     },
     "execution_count": 21,
     "metadata": {},
     "output_type": "execute_result"
    }
   ],
   "source": [
    "\n"
   ]
  },
  {
   "cell_type": "code",
   "execution_count": null,
   "id": "2faa88f8",
   "metadata": {},
   "outputs": [],
   "source": []
  }
 ],
 "metadata": {
  "kernelspec": {
   "display_name": "Python 3 (ipykernel)",
   "language": "python",
   "name": "python3"
  },
  "language_info": {
   "codemirror_mode": {
    "name": "ipython",
    "version": 3
   },
   "file_extension": ".py",
   "mimetype": "text/x-python",
   "name": "python",
   "nbconvert_exporter": "python",
   "pygments_lexer": "ipython3",
   "version": "3.11.7"
  }
 },
 "nbformat": 4,
 "nbformat_minor": 5
}
